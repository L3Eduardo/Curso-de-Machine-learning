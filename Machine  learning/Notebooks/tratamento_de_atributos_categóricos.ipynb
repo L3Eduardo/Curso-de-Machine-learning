{
  "nbformat": 4,
  "nbformat_minor": 0,
  "metadata": {
    "colab": {
      "name": "tratamento_de_atributos_categóricos.ipynb",
      "provenance": []
    },
    "kernelspec": {
      "name": "python3",
      "display_name": "Python 3"
    },
    "language_info": {
      "name": "python"
    }
  },
  "cells": [
    {
      "cell_type": "markdown",
      "source": [
        "#Criação dos dados"
      ],
      "metadata": {
        "id": "YCpdDQI1V1ax"
      }
    },
    {
      "cell_type": "code",
      "execution_count": 1,
      "metadata": {
        "colab": {
          "base_uri": "https://localhost:8080/"
        },
        "id": "MHTtvdRfLiDc",
        "outputId": "937122d6-6e97-4bf1-89dd-62cabc106f3a"
      },
      "outputs": [
        {
          "output_type": "execute_result",
          "data": {
            "text/plain": [
              "array([['corpo de bombeiros', 44, 72000],\n",
              "       ['secretaria de saúde', 34, 65000],\n",
              "       ['polícia civil', 46, 98000],\n",
              "       ['secretaria de saúde', 35, 45000],\n",
              "       ['polícia civil', 23, 34000]], dtype=object)"
            ]
          },
          "metadata": {},
          "execution_count": 1
        }
      ],
      "source": [
        "import pandas as pd\n",
        "data = {'empregador':['corpo de bombeiros', 'secretaria de saúde', 'polícia civil', 'secretaria de saúde', 'polícia civil'],\n",
        "        'idade':[44, 34, 46, 35, 23],\n",
        "        'remuneração':[72000, 65000, 98000, 45000, 34000]\n",
        "        }\n",
        "df = pd.DataFrame(data).values\n",
        "df"
      ]
    },
    {
      "cell_type": "code",
      "source": [
        "df.shape"
      ],
      "metadata": {
        "colab": {
          "base_uri": "https://localhost:8080/"
        },
        "id": "sGQAAmjY2eU_",
        "outputId": "d86cbf08-a9a5-415b-fff7-90a272e297e3"
      },
      "execution_count": 2,
      "outputs": [
        {
          "output_type": "execute_result",
          "data": {
            "text/plain": [
              "(5, 3)"
            ]
          },
          "metadata": {},
          "execution_count": 2
        }
      ]
    },
    {
      "cell_type": "markdown",
      "source": [
        "#Label encoder\n",
        "\n",
        "*   no cenário acima, empregador não tem ordem nem classificação\n",
        "*   quando o Label encoder é usado, o campo empregador foi transformado com base na ordem alfabética\n",
        "*   essa ordem pode ser captada pelo modelo e isso pode ser um problema\n",
        "\n"
      ],
      "metadata": {
        "id": "eq_R0he9Vnw7"
      }
    },
    {
      "cell_type": "code",
      "source": [
        "from sklearn.preprocessing import LabelEncoder\n",
        "label_encoder = LabelEncoder()\n",
        "\n",
        "df[:,0] = label_encoder.fit_transform(df[:,0])\n",
        "df\n"
      ],
      "metadata": {
        "colab": {
          "base_uri": "https://localhost:8080/"
        },
        "id": "-yXzqHltOU6-",
        "outputId": "ad02a0b4-ec4c-4ff2-b1b6-95adc672a8fa"
      },
      "execution_count": null,
      "outputs": [
        {
          "output_type": "execute_result",
          "data": {
            "text/plain": [
              "array([[0, 44, 72000],\n",
              "       [2, 34, 65000],\n",
              "       [1, 46, 98000],\n",
              "       [2, 35, 45000],\n",
              "       [1, 23, 34000]], dtype=object)"
            ]
          },
          "metadata": {},
          "execution_count": 48
        }
      ]
    },
    {
      "cell_type": "code",
      "source": [
        "df.shape"
      ],
      "metadata": {
        "colab": {
          "base_uri": "https://localhost:8080/"
        },
        "id": "bQL18hrJ2no6",
        "outputId": "1c5eb327-8ae9-4cd1-b38c-3b3209496c77"
      },
      "execution_count": 3,
      "outputs": [
        {
          "output_type": "execute_result",
          "data": {
            "text/plain": [
              "(5, 3)"
            ]
          },
          "metadata": {},
          "execution_count": 3
        }
      ]
    },
    {
      "cell_type": "code",
      "source": [
        ""
      ],
      "metadata": {
        "id": "7lEk9VU22ZiG"
      },
      "execution_count": null,
      "outputs": []
    },
    {
      "cell_type": "code",
      "source": [
        "from sklearn.preprocessing import MinMaxScaler\n",
        "scaler = MinMaxScaler()\n",
        "df =  scaler.fit_transform(df) #normalização\n",
        "df"
      ],
      "metadata": {
        "colab": {
          "base_uri": "https://localhost:8080/"
        },
        "id": "AZuz5zXOYndq",
        "outputId": "dc00d49d-5636-4566-e40f-a33616600e3e"
      },
      "execution_count": null,
      "outputs": [
        {
          "output_type": "execute_result",
          "data": {
            "text/plain": [
              "array([[0.        , 0.91304348, 0.59375   ],\n",
              "       [1.        , 0.47826087, 0.484375  ],\n",
              "       [0.5       , 1.        , 1.        ],\n",
              "       [1.        , 0.52173913, 0.171875  ],\n",
              "       [0.5       , 0.        , 0.        ]])"
            ]
          },
          "metadata": {},
          "execution_count": 49
        }
      ]
    },
    {
      "cell_type": "code",
      "source": [
        "df.shape"
      ],
      "metadata": {
        "colab": {
          "base_uri": "https://localhost:8080/"
        },
        "id": "xiRFFbnC2qvj",
        "outputId": "5d178b45-8e2b-43da-908e-e73dd29d6734"
      },
      "execution_count": 4,
      "outputs": [
        {
          "output_type": "execute_result",
          "data": {
            "text/plain": [
              "(5, 3)"
            ]
          },
          "metadata": {},
          "execution_count": 4
        }
      ]
    },
    {
      "cell_type": "markdown",
      "source": [
        "#One hot encoder\n",
        "* o valor transformado não ten ordem"
      ],
      "metadata": {
        "id": "hAhFBM7QVwRL"
      }
    },
    {
      "cell_type": "code",
      "source": [
        "from sklearn.preprocessing import OneHotEncoder\n",
        "from sklearn.compose import ColumnTransformer\n",
        "onehotencorder = ColumnTransformer(transformers=[(\"OneHot\", OneHotEncoder(), [0])],remainder='passthrough')\n",
        "df_onehotencoder = onehotencorder.fit_transform(df)\n",
        "df_onehotencoder"
      ],
      "metadata": {
        "colab": {
          "base_uri": "https://localhost:8080/"
        },
        "id": "KhKJRJskTUW-",
        "outputId": "f426a2d6-9869-49e8-d9d4-4766f35c157c"
      },
      "execution_count": 7,
      "outputs": [
        {
          "output_type": "execute_result",
          "data": {
            "text/plain": [
              "array([[1.0, 0.0, 0.0, 44, 72000],\n",
              "       [0.0, 0.0, 1.0, 34, 65000],\n",
              "       [0.0, 1.0, 0.0, 46, 98000],\n",
              "       [0.0, 0.0, 1.0, 35, 45000],\n",
              "       [0.0, 1.0, 0.0, 23, 34000]], dtype=object)"
            ]
          },
          "metadata": {},
          "execution_count": 7
        }
      ]
    },
    {
      "cell_type": "code",
      "source": [
        "df_onehotencoder.shape"
      ],
      "metadata": {
        "colab": {
          "base_uri": "https://localhost:8080/"
        },
        "id": "NYLWo1i32tUy",
        "outputId": "3f5faf0f-cd44-48ca-f9ac-112c05cdb29c"
      },
      "execution_count": 8,
      "outputs": [
        {
          "output_type": "execute_result",
          "data": {
            "text/plain": [
              "(5, 5)"
            ]
          },
          "metadata": {},
          "execution_count": 8
        }
      ]
    },
    {
      "cell_type": "code",
      "source": [
        "from sklearn.preprocessing import MinMaxScaler\n",
        "scaler = MinMaxScaler()\n",
        "df_onehotencoder =  scaler.fit_transform(df_onehotencoder) #normalização\n",
        "df_onehotencoder"
      ],
      "metadata": {
        "colab": {
          "base_uri": "https://localhost:8080/"
        },
        "id": "9-BtUzQNQaR-",
        "outputId": "eeb31518-5101-46f9-8e37-7ae2e1edbdd8"
      },
      "execution_count": 9,
      "outputs": [
        {
          "output_type": "execute_result",
          "data": {
            "text/plain": [
              "array([[1.        , 0.        , 0.        , 0.91304348, 0.59375   ],\n",
              "       [0.        , 0.        , 1.        , 0.47826087, 0.484375  ],\n",
              "       [0.        , 1.        , 0.        , 1.        , 1.        ],\n",
              "       [0.        , 0.        , 1.        , 0.52173913, 0.171875  ],\n",
              "       [0.        , 1.        , 0.        , 0.        , 0.        ]])"
            ]
          },
          "metadata": {},
          "execution_count": 9
        }
      ]
    },
    {
      "cell_type": "code",
      "source": [
        "df_onehotencoder.shape"
      ],
      "metadata": {
        "id": "lDbU6ch13JyQ",
        "outputId": "3f3e83b3-991d-4608-d4b3-0828ed1b526d",
        "colab": {
          "base_uri": "https://localhost:8080/"
        }
      },
      "execution_count": 10,
      "outputs": [
        {
          "output_type": "execute_result",
          "data": {
            "text/plain": [
              "(5, 5)"
            ]
          },
          "metadata": {},
          "execution_count": 10
        }
      ]
    }
  ]
}